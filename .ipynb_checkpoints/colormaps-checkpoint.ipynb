{
 "metadata": {
  "name": "",
  "signature": "sha256:86e71bdc740bde407d22422e51bd11e8d7af64ef282be88647267407128eaba7"
 },
 "nbformat": 3,
 "nbformat_minor": 0,
 "worksheets": [
  {
   "cells": [
    {
     "cell_type": "code",
     "collapsed": false,
     "input": [
      "#Author: George Azzari"
     ],
     "language": "python",
     "metadata": {},
     "outputs": [],
     "prompt_number": 3
    },
    {
     "cell_type": "code",
     "collapsed": false,
     "input": [
      "import numpy as np\n",
      "import matplotlib.pyplot as plt\n",
      "import matplotlib.colors as mcolors\n",
      "from matplotlib import cm, colorbar"
     ],
     "language": "python",
     "metadata": {},
     "outputs": [],
     "prompt_number": 4
    },
    {
     "cell_type": "heading",
     "level": 4,
     "metadata": {},
     "source": [
      "Here is some docs on color maps:"
     ]
    },
    {
     "cell_type": "markdown",
     "metadata": {},
     "source": [
      "http://matplotlib.org/api/colorbar_api.html\n",
      "\n",
      "http://matplotlib.org/api/colors_api.html#matplotlib.colors.Normalize\n",
      "\n",
      "http://wiki.scipy.org/Cookbook/Matplotlib/ColormapTransformations\n",
      "\n",
      "http://matplotlib.org/examples/api/colorbar_only.html"
     ]
    },
    {
     "cell_type": "heading",
     "level": 4,
     "metadata": {},
     "source": [
      "Custom color map function"
     ]
    },
    {
     "cell_type": "code",
     "collapsed": false,
     "input": [
      "#Author: Chris Slocum \n",
      "#Web: http://schubert.atmos.colostate.edu/~cslocum/custom_cmap.html\n",
      "\n",
      "def make_cmap(colors, position=None, bit=False):\n",
      "    '''\n",
      "    make_cmap takes a list of tuples which contain RGB values. The RGB\n",
      "    values may either be in 8-bit [0 to 255] (in which bit must be set to\n",
      "    True when called) or arithmetic [0 to 1] (default). make_cmap returns\n",
      "    a cmap with equally spaced colors.\n",
      "    Arrange your tuples so that the first color is the lowest value for the\n",
      "    colorbar and the last is the highest.\n",
      "    position contains values from 0 to 1 to dictate the location of each color.\n",
      "    '''\n",
      "    bit_rgb = np.linspace(0,1, 256)\n",
      "    if position == None:\n",
      "        position = np.linspace(0,1,len(colors))\n",
      "    else:\n",
      "        if len(position) != len(colors):\n",
      "            sys.exit(\"position length must be the same as colors\")\n",
      "        elif position[0] != 0 or position[-1] != 1:\n",
      "            sys.exit(\"position must start with 0 and end with 1\")\n",
      "    if bit:\n",
      "        for i in range(len(colors)):\n",
      "            colors[i] = (bit_rgb[colors[i][0]],\n",
      "                         bit_rgb[colors[i][1]],\n",
      "                         bit_rgb[colors[i][2]])\n",
      "    cdict = {'red':[], 'green':[], 'blue':[]}\n",
      "    for pos, color in zip(position, colors):\n",
      "        cdict['red'].append((pos, color[0], color[0]))\n",
      "        cdict['green'].append((pos, color[1], color[1]))\n",
      "        cdict['blue'].append((pos, color[2], color[2]))\n",
      "    cmap = mcolors.LinearSegmentedColormap('my_colormap', cdict, 256)\n",
      "    return cmap"
     ],
     "language": "python",
     "metadata": {},
     "outputs": [],
     "prompt_number": 5
    },
    {
     "cell_type": "heading",
     "level": 4,
     "metadata": {},
     "source": [
      "Discretize existing color maps"
     ]
    },
    {
     "cell_type": "code",
     "collapsed": false,
     "input": [
      "#Credits: http://wiki.scipy.org/Cookbook/Matplotlib/ColormapTransformations\n",
      "def cmap_discretize(cmap, N):\n",
      "    \"\"\"Return a discrete colormap from the continuous colormap cmap.\n",
      "        cmap: colormap instance, eg. cm.jet. \n",
      "        N: number of colors.\n",
      "    \"\"\"\n",
      "    if type(cmap) == str:\n",
      "        cmap = get_cmap(cmap)\n",
      "    colors_i = concatenate((linspace(0, 1., N), (0.,0.,0.,0.)))\n",
      "    colors_rgba = cmap(colors_i)\n",
      "    indices = linspace(0, 1., N+1)\n",
      "    cdict = {}\n",
      "    for ki,key in enumerate(('red','green','blue')):\n",
      "        cdict[key] = [ (indices[i], colors_rgba[i-1,ki], colors_rgba[i,ki]) for i in xrange(N+1) ]\n",
      "    # Return colormap object.\n",
      "    return mcolors.LinearSegmentedColormap(cmap.name + \"_%d\"%N, cdict, N)"
     ],
     "language": "python",
     "metadata": {},
     "outputs": [],
     "prompt_number": 6
    },
    {
     "cell_type": "heading",
     "level": 4,
     "metadata": {},
     "source": [
      "Test"
     ]
    },
    {
     "cell_type": "code",
     "collapsed": false,
     "input": [
      "fig = plt.figure(figsize=(9, 1))\n",
      "cnorm = mcolors.Normalize(vmin=-2, vmax=2) #linear stretch\n",
      "c = mcolors.ColorConverter().to_rgb\n",
      "colors = [c('#0000FF'), c('#FFFFFF'), c('#FF0000')]\n",
      "mymap = make_cmap(colors, bit=False)\n",
      "ax = plt.subplot(111)\n",
      "cbar = colorbar.ColorbarBase(ax, norm=cnorm, orientation='horizontal', cmap=mymap)\n",
      "plt.savefig('cont_map.png', dpi=150, facecolor='w', edgecolor='w',orientation='portrait', bbox_inches='tight')"
     ],
     "language": "python",
     "metadata": {},
     "outputs": [
      {
       "metadata": {},
       "output_type": "display_data",
       "png": "[encoded data removed]",
       "text": [
        "<matplotlib.figure.Figure at 0x80527b8>"
       ]
      }
     ],
     "prompt_number": 7
    },
    {
     "cell_type": "code",
     "collapsed": false,
     "input": [
      "fig = plt.figure(figsize=(9, 1))\n",
      "# cnorm2 = mcolors.BoundaryNorm(linspace(-2,2,12), 12) #linear stretch\n",
      "mymap2 = cmap_discretize(mymap, N=12)\n",
      "ax2 = plt.subplot(111)\n",
      "cbar = colorbar.ColorbarBase(ax2, norm=cnorm, orientation='horizontal', cmap=mymap2)\n",
      "# plt.savefig('discr_map.png', dpi=150, facecolor='w', edgecolor='w',orientation='portrait', bbox_inches='tight')"
     ],
     "language": "python",
     "metadata": {},
     "outputs": [
      {
       "metadata": {},
       "output_type": "display_data",
       "png": "[encoded data removed]",
       "text": [
        "<matplotlib.figure.Figure at 0x802bba8>"
       ]
      }
     ],
     "prompt_number": 8
    },
    {
     "cell_type": "code",
     "collapsed": false,
     "input": [],
     "language": "python",
     "metadata": {},
     "outputs": []
    }
   ],
   "metadata": {}
  }
 ]
}