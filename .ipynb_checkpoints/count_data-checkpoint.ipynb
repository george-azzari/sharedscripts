{
 "cells": [
  {
   "cell_type": "code",
   "execution_count": 1,
   "metadata": {
    "collapsed": true
   },
   "outputs": [],
   "source": [
    "import ee\n",
    "ee.Initialize()"
   ]
  },
  {
   "cell_type": "code",
   "execution_count": 59,
   "metadata": {
    "collapsed": false
   },
   "outputs": [],
   "source": [
    "import os\n",
    "import sys\n",
    "sys.path.append('/Users/george/GDrive/PythonRepos/PySCYM/')\n",
    "import json\n",
    "from IPython.display import Image, HTML, display\n",
    "from glob import glob"
   ]
  },
  {
   "cell_type": "code",
   "execution_count": 3,
   "metadata": {
    "collapsed": true
   },
   "outputs": [],
   "source": [
    "import sourcedata\n",
    "import scym\n",
    "import wrstools\n",
    "import seasonal\n",
    "import tabexptools as tbx\n",
    "import assetsmanager"
   ]
  },
  {
   "cell_type": "code",
   "execution_count": 4,
   "metadata": {
    "collapsed": true
   },
   "outputs": [],
   "source": [
    "import usa\n",
    "import india \n",
    "import zambia"
   ]
  },
  {
   "cell_type": "markdown",
   "metadata": {},
   "source": [
    "# India"
   ]
  },
  {
   "cell_type": "code",
   "execution_count": 48,
   "metadata": {
    "collapsed": false
   },
   "outputs": [],
   "source": [
    "doy_start1 = 30  # November 30\n",
    "doy_end1 = 101  # February 10\n",
    "doy_start2 = 106  # February 15-16\n",
    "doy_end2 = 135  # March 15-16\n",
    "year = 2012\n",
    "imgcollargs = dict(filterpoly=india.whole.geometry())\n",
    "seascoll = seasonal.Collection(basecollgen=india.lsrcollgen, seasonalyear=year, startmonth=11,\n",
    "                               sdoys=[doy_start1, doy_start2], edoys=[doy_end1, doy_end2],\n",
    "                               collkwargs=imgcollargs)\n",
    "seascoll.update_basecoll(india.wheat_mask)"
   ]
  },
  {
   "cell_type": "code",
   "execution_count": 49,
   "metadata": {
    "collapsed": false
   },
   "outputs": [],
   "source": [
    "season1 = seascoll.filter_by_doy(0)\n",
    "season2 = seascoll.filter_by_doy(1)"
   ]
  },
  {
   "cell_type": "code",
   "execution_count": 63,
   "metadata": {
    "collapsed": false
   },
   "outputs": [],
   "source": [
    "count1 = ee.Image(season1.reduce(ee.Reducer.count())).clip(india.whole).select([0],['count'])\n",
    "count2 = ee.Image(season2.reduce(ee.Reducer.count())).clip(india.whole).select([0],['count'])"
   ]
  },
  {
   "cell_type": "code",
   "execution_count": 64,
   "metadata": {
    "collapsed": false
   },
   "outputs": [],
   "source": [
    "u1 = count1.visualize(bands='count', min=1,  max=4, palette=['C5003D', 'B0F566']).getThumbURL()\n",
    "u2 = count2.visualize(bands='count', min=1,  max=4, palette=['C5003D', 'B0F566']).getThumbURL()\n",
    "u = [u1, u2]"
   ]
  },
  {
   "cell_type": "code",
   "execution_count": 68,
   "metadata": {
    "collapsed": false
   },
   "outputs": [
    {
     "name": "stdout",
     "output_type": "stream",
     "text": [
      "2012\n"
     ]
    },
    {
     "data": {
      "text/html": [
       "<img style='width: 480px; margin: 5px; float: left; border: 1px solid black;' src='https://earthengine.googleapis.com//api/thumb?thumbid=3af3af6e575729696e676828c7d14d05&token=9ad36bf7ab70e588f231d3325fce8479' /><img style='width: 480px; margin: 5px; float: left; border: 1px solid black;' src='https://earthengine.googleapis.com//api/thumb?thumbid=789b7eac4e5022a8548bf7a3e51ab208&token=8420bc57a6200d64bd45e3825cb85d65' />"
      ],
      "text/plain": [
       "<IPython.core.display.HTML object>"
      ]
     },
     "metadata": {},
     "output_type": "display_data"
    }
   ],
   "source": [
    "print(year)\n",
    "imagesList=''.join( [\"<img style='width: 480px; margin: 5px; float: left; border: 1px solid black;' src='%s' />\" % str(s) \n",
    "                     for s in u ])\n",
    "display(HTML(imagesList))"
   ]
  },
  {
   "cell_type": "code",
   "execution_count": null,
   "metadata": {
    "collapsed": true
   },
   "outputs": [],
   "source": []
  }
 ],
 "metadata": {
  "kernelspec": {
   "display_name": "Python 2",
   "language": "python",
   "name": "python2"
  },
  "language_info": {
   "codemirror_mode": {
    "name": "ipython",
    "version": 2
   },
   "file_extension": ".py",
   "mimetype": "text/x-python",
   "name": "python",
   "nbconvert_exporter": "python",
   "pygments_lexer": "ipython2",
   "version": "2.7.11"
  }
 },
 "nbformat": 4,
 "nbformat_minor": 0
}
