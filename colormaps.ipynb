{
 "metadata": {
  "name": "",
  "signature": "sha256:95f5f26d1679e5a273b2882beab49576cc67b484ced973e7bda7b65927ab4fc8"
 },
 "nbformat": 3,
 "nbformat_minor": 0,
 "worksheets": [
  {
   "cells": [
    {
     "cell_type": "code",
     "collapsed": false,
     "input": [
      "import numpy as np\n",
      "import matplotlib.pyplot as plt\n",
      "import matplotlib.colors as mcolors\n",
      "from matplotlib import cm, colorbar"
     ],
     "language": "python",
     "metadata": {},
     "outputs": [],
     "prompt_number": 1
    },
    {
     "cell_type": "heading",
     "level": 4,
     "metadata": {},
     "source": [
      "Here is some docs on color maps:"
     ]
    },
    {
     "cell_type": "markdown",
     "metadata": {},
     "source": [
      "http://matplotlib.org/api/colorbar_api.html\n",
      "\n",
      "http://matplotlib.org/api/colors_api.html#matplotlib.colors.Normalize\n",
      "\n",
      "http://wiki.scipy.org/Cookbook/Matplotlib/ColormapTransformations"
     ]
    },
    {
     "cell_type": "heading",
     "level": 4,
     "metadata": {},
     "source": [
      "Custom color map function"
     ]
    },
    {
     "cell_type": "code",
     "collapsed": false,
     "input": [
      "#Author: Chris Slocum \n",
      "#Web: http://schubert.atmos.colostate.edu/~cslocum/custom_cmap.html\n",
      "\n",
      "def make_cmap(colors, position=None, bit=False):\n",
      "    '''\n",
      "    make_cmap takes a list of tuples which contain RGB values. The RGB\n",
      "    values may either be in 8-bit [0 to 255] (in which bit must be set to\n",
      "    True when called) or arithmetic [0 to 1] (default). make_cmap returns\n",
      "    a cmap with equally spaced colors.\n",
      "    Arrange your tuples so that the first color is the lowest value for the\n",
      "    colorbar and the last is the highest.\n",
      "    position contains values from 0 to 1 to dictate the location of each color.\n",
      "    '''\n",
      "    import matplotlib as mpl\n",
      "    import numpy as np\n",
      "    bit_rgb = np.linspace(0,1, 256)\n",
      "    if position == None:\n",
      "        position = np.linspace(0,1,len(colors))\n",
      "    else:\n",
      "        if len(position) != len(colors):\n",
      "            sys.exit(\"position length must be the same as colors\")\n",
      "        elif position[0] != 0 or position[-1] != 1:\n",
      "            sys.exit(\"position must start with 0 and end with 1\")\n",
      "    if bit:\n",
      "        for i in range(len(colors)):\n",
      "            colors[i] = (bit_rgb[colors[i][0]],\n",
      "                         bit_rgb[colors[i][1]],\n",
      "                         bit_rgb[colors[i][2]])\n",
      "    cdict = {'red':[], 'green':[], 'blue':[]}\n",
      "    for pos, color in zip(position, colors):\n",
      "        cdict['red'].append((pos, color[0], color[0]))\n",
      "        cdict['green'].append((pos, color[1], color[1]))\n",
      "        cdict['blue'].append((pos, color[2], color[2]))\n",
      "\n",
      "    cmap = mpl.colors.LinearSegmentedColormap('my_colormap', cdict, 256)\n",
      "    return cmap"
     ],
     "language": "python",
     "metadata": {},
     "outputs": [],
     "prompt_number": 2
    },
    {
     "cell_type": "heading",
     "level": 4,
     "metadata": {},
     "source": [
      "Discretize existing color maps"
     ]
    },
    {
     "cell_type": "code",
     "collapsed": false,
     "input": [
      "#Credits: http://wiki.scipy.org/Cookbook/Matplotlib/ColormapTransformations\n",
      "def cmap_discretize(cmap, N):\n",
      "    \"\"\"Return a discrete colormap from the continuous colormap cmap.\n",
      "    \n",
      "        cmap: colormap instance, eg. cm.jet. \n",
      "        N: number of colors.\n",
      "    \n",
      "    Example\n",
      "        x = resize(arange(100), (5,100))\n",
      "        djet = cmap_discretize(cm.jet, 5)\n",
      "        imshow(x, cmap=djet)\n",
      "    \"\"\"\n",
      "\n",
      "    if type(cmap) == str:\n",
      "        cmap = get_cmap(cmap)\n",
      "    colors_i = concatenate((linspace(0, 1., N), (0.,0.,0.,0.)))\n",
      "    colors_rgba = cmap(colors_i)\n",
      "    indices = linspace(0, 1., N+1)\n",
      "    cdict = {}\n",
      "    for ki,key in enumerate(('red','green','blue')):\n",
      "        cdict[key] = [ (indices[i], colors_rgba[i-1,ki], colors_rgba[i,ki]) for i in xrange(N+1) ]\n",
      "    # Return colormap object.\n",
      "    return matplotlib.colors.LinearSegmentedColormap(cmap.name + \"_%d\"%N, cdict, 1024)"
     ],
     "language": "python",
     "metadata": {},
     "outputs": [],
     "prompt_number": 3
    },
    {
     "cell_type": "heading",
     "level": 4,
     "metadata": {},
     "source": [
      "Test 1"
     ]
    },
    {
     "cell_type": "code",
     "collapsed": false,
     "input": [
      "fig = plt.figure(figsize=(9, 1))\n",
      "cnorm = mcolors.Normalize(vmin=-2, vmax=2) #linear stretch\n",
      "colors1 = [(255,0,0), (255,255,0), (255,255,255), (0,157,0), (0,0,255)] # This example uses the 8-bit RGB\n",
      "mymap1a = make_cmap(colors1, bit=True)\n",
      "ax1a = plt.subplot(111)\n",
      "cbar = colorbar.ColorbarBase(ax1a, norm=cnorm, orientation='horizontal', cmap=mymap1a)"
     ],
     "language": "python",
     "metadata": {},
     "outputs": [
      {
       "metadata": {},
       "output_type": "display_data",
       "png": "[encoded data removed]",
       "text": [
        "<matplotlib.figure.Figure at 0x8248d30>"
       ]
      }
     ],
     "prompt_number": 4
    },
    {
     "cell_type": "code",
     "collapsed": false,
     "input": [
      "fig = plt.figure(figsize=(9, 1))\n",
      "mymap1b = cmap_discretize(mymap1a, N=12)\n",
      "ax1b = plt.subplot(111)\n",
      "cbar = colorbar.ColorbarBase(ax1b, norm=cnorm, orientation='horizontal', cmap=mymap1b)"
     ],
     "language": "python",
     "metadata": {},
     "outputs": [
      {
       "metadata": {},
       "output_type": "display_data",
       "png": "[encoded data removed]",
       "text": [
        "<matplotlib.figure.Figure at 0x8252080>"
       ]
      }
     ],
     "prompt_number": 5
    },
    {
     "cell_type": "heading",
     "level": 4,
     "metadata": {},
     "source": [
      "Test2"
     ]
    },
    {
     "cell_type": "code",
     "collapsed": false,
     "input": [
      "fig = plt.figure(figsize=(9, 1))\n",
      "cnorm = mcolors.Normalize(vmin=-2, vmax=2) #linear stretch\n",
      "c = mcolors.ColorConverter().to_rgb\n",
      "colors2 = [c('Black'), c('Red'), c('Purple')]\n",
      "mymap2 = make_cmap(colors2, bit=False)\n",
      "ax2 = plt.subplot(111)\n",
      "cbar = colorbar.ColorbarBase(ax2, norm=cnorm, orientation='horizontal', cmap=mymap2)"
     ],
     "language": "python",
     "metadata": {},
     "outputs": [
      {
       "metadata": {},
       "output_type": "display_data",
       "png": "[encoded data removed]",
       "text": [
        "<matplotlib.figure.Figure at 0x8248470>"
       ]
      }
     ],
     "prompt_number": 6
    },
    {
     "cell_type": "code",
     "collapsed": false,
     "input": [],
     "language": "python",
     "metadata": {},
     "outputs": []
    }
   ],
   "metadata": {}
  }
 ]
}